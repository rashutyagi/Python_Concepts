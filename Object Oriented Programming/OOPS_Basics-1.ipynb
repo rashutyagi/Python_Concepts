{
 "cells": [
  {
   "cell_type": "markdown",
   "metadata": {},
   "source": [
    "## Basic OOP Concepts in Python."
   ]
  },
  {
   "cell_type": "code",
   "execution_count": 1,
   "metadata": {},
   "outputs": [],
   "source": [
    "#creating class\n",
    "class Student:  # a class can never be left empty.\n",
    "    pass"
   ]
  },
  {
   "cell_type": "code",
   "execution_count": 2,
   "metadata": {},
   "outputs": [],
   "source": [
    "#creating object of Student class\n",
    "s1 = Student()"
   ]
  },
  {
   "cell_type": "code",
   "execution_count": 3,
   "metadata": {},
   "outputs": [
    {
     "data": {
      "text/plain": [
       "<__main__.Student at 0x217afe7c0f0>"
      ]
     },
     "execution_count": 3,
     "metadata": {},
     "output_type": "execute_result"
    }
   ],
   "source": [
    "s1"
   ]
  },
  {
   "cell_type": "code",
   "execution_count": 4,
   "metadata": {},
   "outputs": [
    {
     "data": {
      "text/plain": [
       "__main__.Student"
      ]
     },
     "execution_count": 4,
     "metadata": {},
     "output_type": "execute_result"
    }
   ],
   "source": [
    "type(s1)"
   ]
  },
  {
   "cell_type": "code",
   "execution_count": 5,
   "metadata": {},
   "outputs": [
    {
     "name": "stdout",
     "output_type": "stream",
     "text": [
      "<class '__main__.Student'>\n"
     ]
    }
   ],
   "source": [
    "print(type(s1))"
   ]
  },
  {
   "cell_type": "code",
   "execution_count": 6,
   "metadata": {},
   "outputs": [
    {
     "name": "stdout",
     "output_type": "stream",
     "text": [
      "<__main__.Student object at 0x00000217AFE7C0F0>\n"
     ]
    }
   ],
   "source": [
    "print(s1)"
   ]
  },
  {
   "cell_type": "code",
   "execution_count": 7,
   "metadata": {},
   "outputs": [
    {
     "name": "stdout",
     "output_type": "stream",
     "text": [
      "<class 'list'>\n"
     ]
    }
   ],
   "source": [
    "l = list() # list is also a class\n",
    "print(type(l))"
   ]
  },
  {
   "cell_type": "code",
   "execution_count": 8,
   "metadata": {},
   "outputs": [
    {
     "name": "stdout",
     "output_type": "stream",
     "text": [
      "<__main__.Student object at 0x00000217AE5C2CC0> <__main__.Student object at 0x00000217AE5C2B00>\n"
     ]
    }
   ],
   "source": [
    "s2 = Student()\n",
    "s3 = Student()\n",
    "print(s2, s3)"
   ]
  },
  {
   "cell_type": "code",
   "execution_count": 9,
   "metadata": {},
   "outputs": [],
   "source": [
    "#adding data into our objects\n",
    "\n",
    "class Student():\n",
    "    pass"
   ]
  },
  {
   "cell_type": "code",
   "execution_count": 10,
   "metadata": {},
   "outputs": [],
   "source": [
    "s1 = Student()\n",
    "s1.name = \"Rashu\""
   ]
  },
  {
   "cell_type": "code",
   "execution_count": 11,
   "metadata": {},
   "outputs": [],
   "source": [
    "s2 = Student()\n",
    "s2.roll_number = 15"
   ]
  },
  {
   "cell_type": "code",
   "execution_count": 12,
   "metadata": {},
   "outputs": [],
   "source": [
    "s3 = Student()\n",
    "s3.name = \"Rahul\"\n",
    "s3.roll_number = 16"
   ]
  },
  {
   "cell_type": "code",
   "execution_count": 13,
   "metadata": {},
   "outputs": [
    {
     "data": {
      "text/plain": [
       "'Rashu'"
      ]
     },
     "execution_count": 13,
     "metadata": {},
     "output_type": "execute_result"
    }
   ],
   "source": [
    "s1.name"
   ]
  },
  {
   "cell_type": "code",
   "execution_count": 14,
   "metadata": {},
   "outputs": [
    {
     "data": {
      "text/plain": [
       "15"
      ]
     },
     "execution_count": 14,
     "metadata": {},
     "output_type": "execute_result"
    }
   ],
   "source": [
    "s2.roll_number"
   ]
  },
  {
   "cell_type": "code",
   "execution_count": 15,
   "metadata": {},
   "outputs": [
    {
     "data": {
      "text/plain": [
       "'Rahul'"
      ]
     },
     "execution_count": 15,
     "metadata": {},
     "output_type": "execute_result"
    }
   ],
   "source": [
    "s3.name"
   ]
  },
  {
   "cell_type": "code",
   "execution_count": 16,
   "metadata": {},
   "outputs": [
    {
     "data": {
      "text/plain": [
       "16"
      ]
     },
     "execution_count": 16,
     "metadata": {},
     "output_type": "execute_result"
    }
   ],
   "source": [
    "s3.roll_number"
   ]
  },
  {
   "cell_type": "code",
   "execution_count": 17,
   "metadata": {},
   "outputs": [
    {
     "ename": "AttributeError",
     "evalue": "'Student' object has no attribute 'roll_number'",
     "output_type": "error",
     "traceback": [
      "\u001b[1;31m---------------------------------------------------------------------------\u001b[0m",
      "\u001b[1;31mAttributeError\u001b[0m                            Traceback (most recent call last)",
      "\u001b[1;32m<ipython-input-17-5c73248fef98>\u001b[0m in \u001b[0;36m<module>\u001b[1;34m\u001b[0m\n\u001b[1;32m----> 1\u001b[1;33m \u001b[0ms1\u001b[0m\u001b[1;33m.\u001b[0m\u001b[0mroll_number\u001b[0m\u001b[1;33m\u001b[0m\u001b[1;33m\u001b[0m\u001b[0m\n\u001b[0m",
      "\u001b[1;31mAttributeError\u001b[0m: 'Student' object has no attribute 'roll_number'"
     ]
    }
   ],
   "source": [
    "s1.roll_number"
   ]
  },
  {
   "cell_type": "code",
   "execution_count": 18,
   "metadata": {},
   "outputs": [
    {
     "ename": "AttributeError",
     "evalue": "'Student' object has no attribute 'name'",
     "output_type": "error",
     "traceback": [
      "\u001b[1;31m---------------------------------------------------------------------------\u001b[0m",
      "\u001b[1;31mAttributeError\u001b[0m                            Traceback (most recent call last)",
      "\u001b[1;32m<ipython-input-18-709594944e69>\u001b[0m in \u001b[0;36m<module>\u001b[1;34m\u001b[0m\n\u001b[1;32m----> 1\u001b[1;33m \u001b[0ms2\u001b[0m\u001b[1;33m.\u001b[0m\u001b[0mname\u001b[0m\u001b[1;33m\u001b[0m\u001b[1;33m\u001b[0m\u001b[0m\n\u001b[0m",
      "\u001b[1;31mAttributeError\u001b[0m: 'Student' object has no attribute 'name'"
     ]
    }
   ],
   "source": [
    "s2.name"
   ]
  },
  {
   "cell_type": "code",
   "execution_count": 19,
   "metadata": {},
   "outputs": [
    {
     "data": {
      "text/plain": [
       "{'name': 'Rashu'}"
      ]
     },
     "execution_count": 19,
     "metadata": {},
     "output_type": "execute_result"
    }
   ],
   "source": [
    "#method to get all the attributes of an object\n",
    "s1.__dict__"
   ]
  },
  {
   "cell_type": "code",
   "execution_count": 20,
   "metadata": {},
   "outputs": [
    {
     "data": {
      "text/plain": [
       "{'roll_number': 15}"
      ]
     },
     "execution_count": 20,
     "metadata": {},
     "output_type": "execute_result"
    }
   ],
   "source": [
    "s2.__dict__"
   ]
  },
  {
   "cell_type": "code",
   "execution_count": 21,
   "metadata": {},
   "outputs": [
    {
     "data": {
      "text/plain": [
       "{'name': 'Rahul', 'roll_number': 16}"
      ]
     },
     "execution_count": 21,
     "metadata": {},
     "output_type": "execute_result"
    }
   ],
   "source": [
    "s3.__dict__"
   ]
  },
  {
   "cell_type": "code",
   "execution_count": 22,
   "metadata": {},
   "outputs": [],
   "source": [
    "# add value to object ---> object.key = value"
   ]
  },
  {
   "cell_type": "code",
   "execution_count": 23,
   "metadata": {},
   "outputs": [
    {
     "data": {
      "text/plain": [
       "True"
      ]
     },
     "execution_count": 23,
     "metadata": {},
     "output_type": "execute_result"
    }
   ],
   "source": [
    "#check if object has this attribute\n",
    "\n",
    "hasattr(s1,\"name\")"
   ]
  },
  {
   "cell_type": "code",
   "execution_count": 26,
   "metadata": {},
   "outputs": [
    {
     "data": {
      "text/plain": [
       "False"
      ]
     },
     "execution_count": 26,
     "metadata": {},
     "output_type": "execute_result"
    }
   ],
   "source": [
    "hasattr(s1,\"roll_number\")"
   ]
  },
  {
   "cell_type": "code",
   "execution_count": 27,
   "metadata": {},
   "outputs": [
    {
     "data": {
      "text/plain": [
       "True"
      ]
     },
     "execution_count": 27,
     "metadata": {},
     "output_type": "execute_result"
    }
   ],
   "source": [
    "hasattr(s3,\"roll_number\")"
   ]
  },
  {
   "cell_type": "code",
   "execution_count": 28,
   "metadata": {},
   "outputs": [
    {
     "data": {
      "text/plain": [
       "'Rashu'"
      ]
     },
     "execution_count": 28,
     "metadata": {},
     "output_type": "execute_result"
    }
   ],
   "source": [
    "# to get the value of the attribute of an object\n",
    "\n",
    "getattr(s1,\"name\")"
   ]
  },
  {
   "cell_type": "code",
   "execution_count": 29,
   "metadata": {},
   "outputs": [
    {
     "data": {
      "text/plain": [
       "15"
      ]
     },
     "execution_count": 29,
     "metadata": {},
     "output_type": "execute_result"
    }
   ],
   "source": [
    "getattr(s2,\"roll_number\")"
   ]
  },
  {
   "cell_type": "code",
   "execution_count": 30,
   "metadata": {},
   "outputs": [
    {
     "ename": "AttributeError",
     "evalue": "'Student' object has no attribute 'roll_number'",
     "output_type": "error",
     "traceback": [
      "\u001b[1;31m---------------------------------------------------------------------------\u001b[0m",
      "\u001b[1;31mAttributeError\u001b[0m                            Traceback (most recent call last)",
      "\u001b[1;32m<ipython-input-30-846704dee88c>\u001b[0m in \u001b[0;36m<module>\u001b[1;34m\u001b[0m\n\u001b[1;32m----> 1\u001b[1;33m \u001b[0mgetattr\u001b[0m\u001b[1;33m(\u001b[0m\u001b[0ms1\u001b[0m\u001b[1;33m,\u001b[0m\u001b[1;34m\"roll_number\"\u001b[0m\u001b[1;33m)\u001b[0m\u001b[1;33m\u001b[0m\u001b[1;33m\u001b[0m\u001b[0m\n\u001b[0m",
      "\u001b[1;31mAttributeError\u001b[0m: 'Student' object has no attribute 'roll_number'"
     ]
    }
   ],
   "source": [
    "getattr(s1,\"roll_number\")"
   ]
  },
  {
   "cell_type": "code",
   "execution_count": 32,
   "metadata": {},
   "outputs": [
    {
     "data": {
      "text/plain": [
       "'Rahul'"
      ]
     },
     "execution_count": 32,
     "metadata": {},
     "output_type": "execute_result"
    }
   ],
   "source": [
    "getattr(s3,\"name\")"
   ]
  },
  {
   "cell_type": "code",
   "execution_count": 33,
   "metadata": {},
   "outputs": [
    {
     "data": {
      "text/plain": [
       "25"
      ]
     },
     "execution_count": 33,
     "metadata": {},
     "output_type": "execute_result"
    }
   ],
   "source": [
    "# we can pass a third argument in getattr which will have the default value if that object has no attribute\n",
    "\n",
    "getattr(s1,\"roll_number\",25)  # will happen temporarily only here."
   ]
  },
  {
   "cell_type": "code",
   "execution_count": 34,
   "metadata": {},
   "outputs": [
    {
     "ename": "AttributeError",
     "evalue": "'Student' object has no attribute 'roll_number'",
     "output_type": "error",
     "traceback": [
      "\u001b[1;31m---------------------------------------------------------------------------\u001b[0m",
      "\u001b[1;31mAttributeError\u001b[0m                            Traceback (most recent call last)",
      "\u001b[1;32m<ipython-input-34-846704dee88c>\u001b[0m in \u001b[0;36m<module>\u001b[1;34m\u001b[0m\n\u001b[1;32m----> 1\u001b[1;33m \u001b[0mgetattr\u001b[0m\u001b[1;33m(\u001b[0m\u001b[0ms1\u001b[0m\u001b[1;33m,\u001b[0m\u001b[1;34m\"roll_number\"\u001b[0m\u001b[1;33m)\u001b[0m\u001b[1;33m\u001b[0m\u001b[1;33m\u001b[0m\u001b[0m\n\u001b[0m",
      "\u001b[1;31mAttributeError\u001b[0m: 'Student' object has no attribute 'roll_number'"
     ]
    }
   ],
   "source": [
    "getattr(s1,\"roll_number\")"
   ]
  },
  {
   "cell_type": "code",
   "execution_count": 35,
   "metadata": {},
   "outputs": [
    {
     "data": {
      "text/plain": [
       "15"
      ]
     },
     "execution_count": 35,
     "metadata": {},
     "output_type": "execute_result"
    }
   ],
   "source": [
    "getattr(s2,\"roll_number\",25)  # 25 is just a defalut argument."
   ]
  },
  {
   "cell_type": "code",
   "execution_count": 36,
   "metadata": {},
   "outputs": [
    {
     "data": {
      "text/plain": [
       "{}"
      ]
     },
     "execution_count": 36,
     "metadata": {},
     "output_type": "execute_result"
    }
   ],
   "source": [
    "# deleting attribute from object\n",
    "\n",
    "delattr(s1,\"name\")\n",
    "s1.__dict__"
   ]
  },
  {
   "cell_type": "markdown",
   "metadata": {},
   "source": [
    "### In general above functions won't be used much because we will define what all set of attributes should our object have but it is still good to know about them."
   ]
  },
  {
   "cell_type": "code",
   "execution_count": 41,
   "metadata": {},
   "outputs": [
    {
     "name": "stdout",
     "output_type": "stream",
     "text": [
      "80 Rashu\n",
      "80 23\n"
     ]
    }
   ],
   "source": [
    "# class attribute vs object attribute.\n",
    "class Student():\n",
    "    passing_percent = 80 # class attribute\n",
    "s1 = Student()\n",
    "s2 = Student()\n",
    "s1.name = \"Rashu\" # object attribute\n",
    "s2.age = 23 #object attribute\n",
    "# print(s1.__dict__)\n",
    "# print(s2.__dict__)\n",
    "print(s1.passing_percent,s1.name)\n",
    "print(s2.passing_percent,s2.age)"
   ]
  },
  {
   "cell_type": "code",
   "execution_count": 42,
   "metadata": {},
   "outputs": [
    {
     "name": "stdout",
     "output_type": "stream",
     "text": [
      "70 80\n"
     ]
    }
   ],
   "source": [
    "s1 = Student()\n",
    "s2 = Student()\n",
    "s1.passing_percent = 70 # this instance attribute or object attribute will be given more preference than class attribute\n",
    "print(s1.passing_percent,s2.passing_percent)"
   ]
  },
  {
   "cell_type": "code",
   "execution_count": 43,
   "metadata": {},
   "outputs": [
    {
     "ename": "TypeError",
     "evalue": "studentDetails() takes 0 positional arguments but 1 was given",
     "output_type": "error",
     "traceback": [
      "\u001b[1;31m---------------------------------------------------------------------------\u001b[0m",
      "\u001b[1;31mTypeError\u001b[0m                                 Traceback (most recent call last)",
      "\u001b[1;32m<ipython-input-43-7e02e3f0dfea>\u001b[0m in \u001b[0;36m<module>\u001b[1;34m\u001b[0m\n\u001b[0;32m      6\u001b[0m \u001b[1;33m\u001b[0m\u001b[0m\n\u001b[0;32m      7\u001b[0m \u001b[0ms1\u001b[0m \u001b[1;33m=\u001b[0m \u001b[0mStudent\u001b[0m\u001b[1;33m(\u001b[0m\u001b[1;33m)\u001b[0m\u001b[1;33m\u001b[0m\u001b[1;33m\u001b[0m\u001b[0m\n\u001b[1;32m----> 8\u001b[1;33m \u001b[0ms1\u001b[0m\u001b[1;33m.\u001b[0m\u001b[0mstudentDetails\u001b[0m\u001b[1;33m(\u001b[0m\u001b[1;33m)\u001b[0m\u001b[1;33m\u001b[0m\u001b[1;33m\u001b[0m\u001b[0m\n\u001b[0m",
      "\u001b[1;31mTypeError\u001b[0m: studentDetails() takes 0 positional arguments but 1 was given"
     ]
    }
   ],
   "source": [
    "#self parameter \n",
    "\n",
    "class Student():\n",
    "    def studentDetails():\n",
    "        pass\n",
    "    \n",
    "s1 = Student()\n",
    "s1.studentDetails()"
   ]
  },
  {
   "cell_type": "markdown",
   "metadata": {},
   "source": [
    "#### So we can see that above we get the error as --> studentDetails() takes 0 positional arguments but 1 was given\n",
    "\n",
    "#### Actually this \"s1.studentDetails()\" is being called as \"Student.studentDetails(s1)\"  inside python hence it means that it is passing the object to the above function but our function is not accepting the value."
   ]
  },
  {
   "cell_type": "code",
   "execution_count": 1,
   "metadata": {},
   "outputs": [],
   "source": [
    "# this --> \"s1.studentDetails()\" and this --> \"Student.studentDetails(s1)\"  are same"
   ]
  },
  {
   "cell_type": "code",
   "execution_count": 2,
   "metadata": {},
   "outputs": [
    {
     "name": "stdout",
     "output_type": "stream",
     "text": [
      "name =  Rashu\n"
     ]
    }
   ],
   "source": [
    "# bydefault object is named as self\n",
    "\n",
    "class Student():\n",
    "    def studentDetails(self):\n",
    "        self.name = \"Rashu\" # object attribute or instance attribute.\n",
    "        print(\"name = \", self.name)\n",
    "s1 = Student()\n",
    "s1.studentDetails()"
   ]
  },
  {
   "cell_type": "code",
   "execution_count": 3,
   "metadata": {},
   "outputs": [
    {
     "name": "stdout",
     "output_type": "stream",
     "text": [
      "name =  Rashu\n"
     ]
    }
   ],
   "source": [
    "class Student():\n",
    "    def studentDetails(self):\n",
    "        self.name = \"Rashu\" # object attribute or instance attribute.\n",
    "        print(\"name = \", self.name)\n",
    "s1 = Student()\n",
    "Student.studentDetails(s1)  #class_name.function(object_name)"
   ]
  },
  {
   "cell_type": "markdown",
   "metadata": {},
   "source": [
    "Hence we can see above that both the statements are doing the same work only hence they are same."
   ]
  },
  {
   "cell_type": "code",
   "execution_count": 6,
   "metadata": {},
   "outputs": [
    {
     "name": "stdout",
     "output_type": "stream",
     "text": [
      "name =  Rashu\n",
      "percentage =  90\n"
     ]
    }
   ],
   "source": [
    "class Student():\n",
    "    def studentDetails(self):\n",
    "        self.name = \"Rashu\" # object attribute or instance attribute. --> it is accessible till the life of this object in self\n",
    "        print(\"name = \", self.name)\n",
    "        percentage = 90 # this is a function attribute it will be accessible everytime we go inside this function\n",
    "                        # this percentage is local to this function only\n",
    "        print(\"percentage = \", percentage)\n",
    "s1 = Student()\n",
    "s1.studentDetails()"
   ]
  },
  {
   "cell_type": "code",
   "execution_count": 9,
   "metadata": {},
   "outputs": [
    {
     "name": "stdout",
     "output_type": "stream",
     "text": [
      "name =  Rashu\n",
      "percentage =  90\n"
     ]
    },
    {
     "ename": "NameError",
     "evalue": "name 'percentage' is not defined",
     "output_type": "error",
     "traceback": [
      "\u001b[1;31m---------------------------------------------------------------------------\u001b[0m",
      "\u001b[1;31mNameError\u001b[0m                                 Traceback (most recent call last)",
      "\u001b[1;32m<ipython-input-9-3046eb8ce3dd>\u001b[0m in \u001b[0;36m<module>\u001b[1;34m\u001b[0m\n\u001b[0;32m     18\u001b[0m \u001b[0ms1\u001b[0m \u001b[1;33m=\u001b[0m \u001b[0mStudent\u001b[0m\u001b[1;33m(\u001b[0m\u001b[1;33m)\u001b[0m\u001b[1;33m\u001b[0m\u001b[1;33m\u001b[0m\u001b[0m\n\u001b[0;32m     19\u001b[0m \u001b[0ms1\u001b[0m\u001b[1;33m.\u001b[0m\u001b[0mstudentDetails\u001b[0m\u001b[1;33m(\u001b[0m\u001b[1;33m)\u001b[0m\u001b[1;33m\u001b[0m\u001b[1;33m\u001b[0m\u001b[0m\n\u001b[1;32m---> 20\u001b[1;33m \u001b[0ms1\u001b[0m\u001b[1;33m.\u001b[0m\u001b[0misPassed\u001b[0m\u001b[1;33m(\u001b[0m\u001b[1;33m)\u001b[0m\u001b[1;33m\u001b[0m\u001b[1;33m\u001b[0m\u001b[0m\n\u001b[0m",
      "\u001b[1;32m<ipython-input-9-3046eb8ce3dd>\u001b[0m in \u001b[0;36misPassed\u001b[1;34m(self)\u001b[0m\n\u001b[0;32m      9\u001b[0m         \u001b[0mprint\u001b[0m\u001b[1;33m(\u001b[0m\u001b[1;34m\"percentage = \"\u001b[0m\u001b[1;33m,\u001b[0m \u001b[0mpercentage\u001b[0m\u001b[1;33m)\u001b[0m\u001b[1;33m\u001b[0m\u001b[1;33m\u001b[0m\u001b[0m\n\u001b[0;32m     10\u001b[0m     \u001b[1;32mdef\u001b[0m \u001b[0misPassed\u001b[0m\u001b[1;33m(\u001b[0m\u001b[0mself\u001b[0m\u001b[1;33m)\u001b[0m\u001b[1;33m:\u001b[0m\u001b[1;33m\u001b[0m\u001b[1;33m\u001b[0m\u001b[0m\n\u001b[1;32m---> 11\u001b[1;33m         \u001b[1;32mif\u001b[0m \u001b[0mpercentage\u001b[0m \u001b[1;33m>\u001b[0m \u001b[0mStudent\u001b[0m\u001b[1;33m.\u001b[0m\u001b[0mpassingPercentage\u001b[0m\u001b[1;33m:\u001b[0m \u001b[1;31m# because passing percentage is a Class attribute\u001b[0m\u001b[1;33m\u001b[0m\u001b[1;33m\u001b[0m\u001b[0m\n\u001b[0m\u001b[0;32m     12\u001b[0m                                                    \u001b[1;31m# Notice here that percentage is actually local to srudentDetails function\u001b[0m\u001b[1;33m\u001b[0m\u001b[1;33m\u001b[0m\u001b[1;33m\u001b[0m\u001b[0m\n\u001b[0;32m     13\u001b[0m                                                    \u001b[1;31m# still we are trying to access it hence we must get error\u001b[0m\u001b[1;33m\u001b[0m\u001b[1;33m\u001b[0m\u001b[1;33m\u001b[0m\u001b[0m\n",
      "\u001b[1;31mNameError\u001b[0m: name 'percentage' is not defined"
     ]
    }
   ],
   "source": [
    "class Student():\n",
    "    passingPercentage = 40\n",
    "    \n",
    "    def studentDetails(self):\n",
    "        self.name = \"Rashu\" # object attribute or instance attribute. --> it is accessible till the life of this object in self\n",
    "        print(\"name = \", self.name)\n",
    "        percentage = 90 # this is a function attribute it will be accessible everytime we go inside this function\n",
    "                        # this percentage is local to this function only\n",
    "        print(\"percentage = \", percentage)\n",
    "    def isPassed(self):\n",
    "        if percentage > Student.passingPercentage: # because passing percentage is a Class attribute\n",
    "                                                   # Notice here that percentage is actually local to srudentDetails function\n",
    "                                                   # still we are trying to access it hence we must get error\n",
    "                                                   # see the error below\n",
    "            print(\"yes you passed\")\n",
    "        else:\n",
    "            print(\"Sorry you failed\")\n",
    "        \n",
    "s1 = Student()\n",
    "s1.studentDetails()\n",
    "s1.isPassed()"
   ]
  },
  {
   "cell_type": "code",
   "execution_count": 12,
   "metadata": {},
   "outputs": [
    {
     "name": "stdout",
     "output_type": "stream",
     "text": [
      "name =  Rashu\n",
      "percentage =  90\n",
      "yes you passed\n"
     ]
    }
   ],
   "source": [
    "class Student():\n",
    "    passingPercentage = 40\n",
    "    \n",
    "    def studentDetails(self):  # self acts like the object whic has been created that is passed throufh self.\n",
    "        self.name = \"Rashu\" # object attribute or instance attribute. --> it is accessible till the life of this object in self\n",
    "        print(\"name = \", self.name)\n",
    "        self.percentage = 90 # object attribute or instance attribute. --> it is accessible till the life of this object in self\n",
    "        print(\"percentage = \", self.percentage)\n",
    "        \n",
    "        \n",
    "    def isPassed(self):\n",
    "        if self.percentage > Student.passingPercentage:                                        \n",
    "            print(\"yes you passed\")\n",
    "        else:\n",
    "            print(\"Sorry you failed\")\n",
    "        \n",
    "s1 = Student()\n",
    "s1.studentDetails()\n",
    "s1.isPassed()"
   ]
  },
  {
   "cell_type": "markdown",
   "metadata": {},
   "source": [
    "### Instance methods are the methods in which \"self\" will be passed amd we can say that Instance methods require the default \"self\" whereas \"static methods\" do not require any self. Static methods are also called as class methods due to this property."
   ]
  },
  {
   "cell_type": "code",
   "execution_count": 13,
   "metadata": {},
   "outputs": [
    {
     "name": "stdout",
     "output_type": "stream",
     "text": [
      "name =  Rashu\n",
      "percentage =  90\n",
      "yes you passed\n"
     ]
    },
    {
     "ename": "TypeError",
     "evalue": "welcomeToSchool() takes 0 positional arguments but 1 was given",
     "output_type": "error",
     "traceback": [
      "\u001b[1;31m---------------------------------------------------------------------------\u001b[0m",
      "\u001b[1;31mTypeError\u001b[0m                                 Traceback (most recent call last)",
      "\u001b[1;32m<ipython-input-13-5d9716b092d1>\u001b[0m in \u001b[0;36m<module>\u001b[1;34m\u001b[0m\n\u001b[0;32m     24\u001b[0m \u001b[0ms1\u001b[0m\u001b[1;33m.\u001b[0m\u001b[0mstudentDetails\u001b[0m\u001b[1;33m(\u001b[0m\u001b[1;33m)\u001b[0m\u001b[1;33m\u001b[0m\u001b[1;33m\u001b[0m\u001b[0m\n\u001b[0;32m     25\u001b[0m \u001b[0ms1\u001b[0m\u001b[1;33m.\u001b[0m\u001b[0misPassed\u001b[0m\u001b[1;33m(\u001b[0m\u001b[1;33m)\u001b[0m\u001b[1;33m\u001b[0m\u001b[1;33m\u001b[0m\u001b[0m\n\u001b[1;32m---> 26\u001b[1;33m \u001b[0ms1\u001b[0m\u001b[1;33m.\u001b[0m\u001b[0mwelcomeToSchool\u001b[0m\u001b[1;33m(\u001b[0m\u001b[1;33m)\u001b[0m\u001b[1;33m\u001b[0m\u001b[1;33m\u001b[0m\u001b[0m\n\u001b[0m",
      "\u001b[1;31mTypeError\u001b[0m: welcomeToSchool() takes 0 positional arguments but 1 was given"
     ]
    }
   ],
   "source": [
    "# this code will show error \n",
    "\n",
    "class Student():\n",
    "    passingPercentage = 40\n",
    "    \n",
    "    def studentDetails(self):\n",
    "        self.name = \"Rashu\" # object attribute or instance attribute. --> it is accessible till the life of this object in self\n",
    "        print(\"name = \", self.name)\n",
    "        self.percentage = 90 # object attribute or instance attribute. --> it is accessible till the life of this object in self\n",
    "        print(\"percentage = \", self.percentage)\n",
    "        \n",
    "        \n",
    "    def isPassed(self):\n",
    "        if self.percentage > Student.passingPercentage:                                        \n",
    "            print(\"yes you passed\")\n",
    "        else:\n",
    "            print(\"Sorry you failed\")\n",
    "            \n",
    "    def welcomeToSchool(): # now we dont want this method to be attached to self as it has nothing to do with any student it \n",
    "                           # is for entire school.\n",
    "        print(\"Heyy!! Welcome to the School Buddy\")\n",
    "        \n",
    "s1 = Student()\n",
    "s1.studentDetails()\n",
    "s1.isPassed()\n",
    "s1.welcomeToSchool()"
   ]
  },
  {
   "cell_type": "code",
   "execution_count": 14,
   "metadata": {},
   "outputs": [
    {
     "name": "stdout",
     "output_type": "stream",
     "text": [
      "name =  Rashu\n",
      "percentage =  90\n",
      "yes you passed\n",
      "Heyy!! Welcome to the School Buddy\n"
     ]
    }
   ],
   "source": [
    "# this is how you remove the attachment of self from any method\n",
    "\n",
    "class Student():\n",
    "    passingPercentage = 40\n",
    "    \n",
    "    def studentDetails(self):\n",
    "        self.name = \"Rashu\" # object attribute or instance attribute. --> it is accessible till the life of this object in self\n",
    "        print(\"name = \", self.name)\n",
    "        self.percentage = 90 # object attribute or instance attribute. --> it is accessible till the life of this object in self\n",
    "        print(\"percentage = \", self.percentage)\n",
    "        \n",
    "        \n",
    "    def isPassed(self):\n",
    "        if self.percentage > Student.passingPercentage:                                        \n",
    "            print(\"yes you passed\")\n",
    "        else:\n",
    "            print(\"Sorry you failed\")\n",
    "            \n",
    "    @staticmethod   # now this method will not demand for \"self\" parameter  ---> This is called as Decorator.    \n",
    "    def welcomeToSchool(): # now we dont want this method to be attached to self as it has nothing to do with any student it \n",
    "                           # is for entire school.\n",
    "        print(\"Heyy!! Welcome to the School Buddy\")\n",
    "        \n",
    "s1 = Student()\n",
    "s1.studentDetails()\n",
    "s1.isPassed()\n",
    "s1.welcomeToSchool()"
   ]
  },
  {
   "cell_type": "code",
   "execution_count": 16,
   "metadata": {},
   "outputs": [],
   "source": [
    "# init method\n",
    "\n",
    "class Student:\n",
    "    def __init__(self):        # self has the address of the object which has been created in our case self and s1 have\n",
    "        self.name = \"Rashu\"    # same reference.\n",
    "        self.rollNumber = 15 \n",
    "                      \n",
    "\n",
    "    "
   ]
  },
  {
   "cell_type": "code",
   "execution_count": 17,
   "metadata": {},
   "outputs": [
    {
     "data": {
      "text/plain": [
       "{'name': 'Rashu', 'rollNumber': 15}"
      ]
     },
     "execution_count": 17,
     "metadata": {},
     "output_type": "execute_result"
    }
   ],
   "source": [
    "s1 = Student() # __init__() function is called in the class as soon as we create an object of that class.\n",
    "s1.__dict__\n",
    "\n"
   ]
  },
  {
   "cell_type": "code",
   "execution_count": 18,
   "metadata": {},
   "outputs": [
    {
     "data": {
      "text/plain": [
       "{'name': 'Rashu', 'rollNumber': 15}"
      ]
     },
     "execution_count": 18,
     "metadata": {},
     "output_type": "execute_result"
    }
   ],
   "source": [
    "s2 = Student()\n",
    "s2.__dict__"
   ]
  },
  {
   "cell_type": "markdown",
   "metadata": {},
   "source": [
    "### But we would want to give different name and roll number to different students (objects)"
   ]
  },
  {
   "cell_type": "code",
   "execution_count": 20,
   "metadata": {},
   "outputs": [],
   "source": [
    "# init method\n",
    "\n",
    "class Student:\n",
    "    def __init__(self,name,rollNumber):        # self has the address of the object which has been created in our case \n",
    "        self.name = name                       # self and s1 have same reference.\n",
    "        self.rollNumber = rollNumber \n",
    "                      \n",
    "\n",
    "    "
   ]
  },
  {
   "cell_type": "code",
   "execution_count": 22,
   "metadata": {},
   "outputs": [
    {
     "data": {
      "text/plain": [
       "{'name': 'Rashu', 'rollNumber': 15}"
      ]
     },
     "execution_count": 22,
     "metadata": {},
     "output_type": "execute_result"
    }
   ],
   "source": [
    "s3 = Student(\"Rashu\",15)\n",
    "s3.__dict__"
   ]
  },
  {
   "cell_type": "markdown",
   "metadata": {},
   "source": [
    "### Factory methods --> when we need to return the object of the class. We use @classmethod as decorator for them.  For them first argument must be class name."
   ]
  },
  {
   "cell_type": "code",
   "execution_count": 3,
   "metadata": {},
   "outputs": [
    {
     "ename": "TypeError",
     "evalue": "__init__() missing 1 required positional argument: 'name'",
     "output_type": "error",
     "traceback": [
      "\u001b[1;31m---------------------------------------------------------------------------\u001b[0m",
      "\u001b[1;31mTypeError\u001b[0m                                 Traceback (most recent call last)",
      "\u001b[1;32m<ipython-input-3-5db22455ed4b>\u001b[0m in \u001b[0;36m<module>\u001b[1;34m\u001b[0m\n\u001b[0;32m     51\u001b[0m \u001b[1;33m\u001b[0m\u001b[0m\n\u001b[0;32m     52\u001b[0m \u001b[1;33m\u001b[0m\u001b[0m\n\u001b[1;32m---> 53\u001b[1;33m \u001b[0ms1\u001b[0m \u001b[1;33m=\u001b[0m \u001b[0mStudent\u001b[0m\u001b[1;33m(\u001b[0m\u001b[1;33m)\u001b[0m\u001b[1;33m\u001b[0m\u001b[1;33m\u001b[0m\u001b[0m\n\u001b[0m\u001b[0;32m     54\u001b[0m \u001b[0ms1\u001b[0m\u001b[1;33m.\u001b[0m\u001b[0mstudentDetails\u001b[0m\u001b[1;33m(\u001b[0m\u001b[1;33m)\u001b[0m\u001b[1;33m\u001b[0m\u001b[1;33m\u001b[0m\u001b[0m\n\u001b[0;32m     55\u001b[0m \u001b[0ms1\u001b[0m\u001b[1;33m.\u001b[0m\u001b[0misPassed\u001b[0m\u001b[1;33m(\u001b[0m\u001b[1;33m)\u001b[0m\u001b[1;33m\u001b[0m\u001b[1;33m\u001b[0m\u001b[0m\n",
      "\u001b[1;31mTypeError\u001b[0m: __init__() missing 1 required positional argument: 'name'"
     ]
    }
   ],
   "source": [
    "from datetime import date\n",
    "\n",
    "\n",
    "\n",
    "class Student():\n",
    "    passingPercentage = 40\n",
    "    \n",
    "    def __init__(self, name, age = 15, percentage = 80):\n",
    "        self.name = name\n",
    "        self.age = age\n",
    "        self.percentage = percentage\n",
    "    \n",
    "    def studentDetails(self):\n",
    "        self.name = \"Rashu\" # object attribute or instance attribute. --> it is accessible till the life of this object in self\n",
    "        print(\"name = \", self.name)\n",
    "        self.percentage = 90 # object attribute or instance attribute. --> it is accessible till the life of this object in self\n",
    "        print(\"percentage = \", self.percentage)\n",
    "        \n",
    "        \n",
    "    def isPassed(self):\n",
    "        if self.percentage > Student.passingPercentage:                                        \n",
    "            print(\"yes you passed\")\n",
    "        else:\n",
    "            print(\"Sorry you failed\")\n",
    "            \n",
    "            \n",
    "    \"\"\"This type of method takes neither a self nor a cls parameter (but of course it’s free to accept an arbitrary \n",
    "       number of other parameters).\n",
    "       Therefore a static method can neither modify object state nor class state.\n",
    "       Static methods are restricted in what data they can access - \n",
    "       and they’re primarily a way to namespace your methods.\"\"\"\n",
    "            \n",
    "    @staticmethod   # now this method will not demand for \"self\" parameter  ---> This is called as Decorator.    \n",
    "    def welcomeToSchool(): # now we dont want this method to be attached to self as it has nothing to do with any student it \n",
    "                           # is for entire school.\n",
    "        print(\"Heyy!! Welcome to the School Buddy\")\n",
    "        \n",
    "    @staticmethod\n",
    "    def isTeen(age):\n",
    "        return age>16\n",
    "    \n",
    "    \"\"\"Instead of accepting a self parameter, class methods take a cls parameter that points to the \n",
    "       class—and not the object instance—when the method is called. \n",
    "       Because the class method only has access to this cls argument, it can’t modify object instance state. \n",
    "       That would require access to self. However, class methods can still modify class state that applies \n",
    "       across all instances of the class.\"\"\"\n",
    "    \n",
    "    @classmethod\n",
    "    def fromBirthYear(cls, name, year, percentage):\n",
    "        return cls(name, date.today().year - year, percentage)\n",
    "    \n",
    "        \n",
    "s1 = Student()\n",
    "s1.studentDetails()\n",
    "s1.isPassed()\n",
    "s1.welcomeToSchool()\n"
   ]
  },
  {
   "cell_type": "code",
   "execution_count": null,
   "metadata": {},
   "outputs": [],
   "source": []
  },
  {
   "cell_type": "code",
   "execution_count": 4,
   "metadata": {},
   "outputs": [],
   "source": [
    "from datetime import date\n",
    "\n",
    "\n",
    "\n",
    "class Student():\n",
    "    passingPercentage = 40\n",
    "    \n",
    "    def __init__(self, name, age = 15, percentage = 80):\n",
    "        self.name = name\n",
    "        self.age = age\n",
    "        self.percentage = percentage\n",
    "    \n",
    "    def studentDetails(self):\n",
    "        self.name = \"Rashu\" # object attribute or instance attribute. --> it is accessible till the life of this object in self\n",
    "        print(\"name = \", self.name)\n",
    "        self.percentage = 90 # object attribute or instance attribute. --> it is accessible till the life of this object in self\n",
    "        print(\"percentage = \", self.percentage)\n",
    "        \n",
    "        \n",
    "    def isPassed(self):\n",
    "        if self.percentage > Student.passingPercentage:                                        \n",
    "            print(\"yes you passed\")\n",
    "        else:\n",
    "            print(\"Sorry you failed\")\n",
    "            \n",
    "            \n",
    "    \"\"\"This type of method takes neither a self nor a cls parameter (but of course it’s free to accept an arbitrary \n",
    "       number of other parameters).\n",
    "       Therefore a static method can neither modify object state nor class state.\n",
    "       Static methods are restricted in what data they can access - \n",
    "       and they’re primarily a way to namespace your methods.\"\"\"\n",
    "            \n",
    "    @staticmethod   # now this method will not demand for \"self\" parameter  ---> This is called as Decorator.    \n",
    "    def welcomeToSchool(): # now we dont want this method to be attached to self as it has nothing to do with any student it \n",
    "                           # is for entire school.\n",
    "        print(\"Heyy!! Welcome to the School Buddy\")\n",
    "        \n",
    "    @staticmethod\n",
    "    def isTeen(age):\n",
    "        return age>16\n",
    "    \n",
    "    \"\"\"Instead of accepting a self parameter, class methods take a cls parameter that points to the \n",
    "       class—and not the object instance—when the method is called. \n",
    "       Because the class method only has access to this cls argument, it can’t modify object instance state. \n",
    "       That would require access to self. However, class methods can still modify class state that applies \n",
    "       across all instances of the class.\"\"\"\n",
    "    \n",
    "    @classmethod\n",
    "    def fromBirthYear(cls, name, year, percentage):\n",
    "        return cls(name, date.today().year - year, percentage)\n",
    "    \n",
    "        "
   ]
  },
  {
   "cell_type": "code",
   "execution_count": 6,
   "metadata": {},
   "outputs": [
    {
     "name": "stdout",
     "output_type": "stream",
     "text": [
      "Rashu\n"
     ]
    }
   ],
   "source": [
    "s1 = Student(\"Rashu\")\n",
    "print(s1.name)"
   ]
  },
  {
   "cell_type": "code",
   "execution_count": 7,
   "metadata": {},
   "outputs": [
    {
     "name": "stdout",
     "output_type": "stream",
     "text": [
      "Vashu\n"
     ]
    }
   ],
   "source": [
    "# we can change this name from outside as well \n",
    "\n",
    "s1.name = \"Vashu\"\n",
    "print(s1.name)  # hence nothing is private right now."
   ]
  },
  {
   "cell_type": "code",
   "execution_count": 8,
   "metadata": {},
   "outputs": [
    {
     "name": "stdout",
     "output_type": "stream",
     "text": [
      "Rashu 15\n"
     ]
    }
   ],
   "source": [
    "s1 = Student(\"Rashu\")\n",
    "print(s1.name,s1.age)"
   ]
  },
  {
   "cell_type": "code",
   "execution_count": 9,
   "metadata": {},
   "outputs": [
    {
     "name": "stdout",
     "output_type": "stream",
     "text": [
      "Vashu 20\n"
     ]
    }
   ],
   "source": [
    "s1.name = \"Vashu\"\n",
    "s1.age = 20\n",
    "print(s1.name,s1.age) # see again that nothing is private right now."
   ]
  },
  {
   "cell_type": "markdown",
   "metadata": {},
   "source": [
    "#### name and age were public right now."
   ]
  },
  {
   "cell_type": "markdown",
   "metadata": {},
   "source": [
    "We can make the following changes <br>\n",
    "By adding __ before the variable name we make it private"
   ]
  },
  {
   "cell_type": "code",
   "execution_count": 11,
   "metadata": {},
   "outputs": [],
   "source": [
    "from datetime import date\n",
    "\n",
    "\n",
    "\n",
    "class Student():\n",
    "    passingPercentage = 40\n",
    "    \n",
    "    def __init__(self, name, age = 15, percentage = 80):\n",
    "        self.__name = name\n",
    "        self.age = age\n",
    "        self.percentage = percentage\n",
    "    \n",
    "    def studentDetails(self):\n",
    "        self.name = \"Rashu\" # object attribute or instance attribute. --> it is accessible till the life of this object in self\n",
    "        print(\"name = \", self.name)\n",
    "        self.percentage = 90 # object attribute or instance attribute. --> it is accessible till the life of this object in self\n",
    "        print(\"percentage = \", self.percentage)\n",
    "        \n",
    "        \n",
    "    def isPassed(self):\n",
    "        if self.percentage > Student.passingPercentage:                                        \n",
    "            print(\"yes you passed\")\n",
    "        else:\n",
    "            print(\"Sorry you failed\")\n",
    "            \n",
    "            \n",
    "    \"\"\"This type of method takes neither a self nor a cls parameter (but of course it’s free to accept an arbitrary \n",
    "       number of other parameters).\n",
    "       Therefore a static method can neither modify object state nor class state.\n",
    "       Static methods are restricted in what data they can access - \n",
    "       and they’re primarily a way to namespace your methods.\"\"\"\n",
    "            \n",
    "    @staticmethod   # now this method will not demand for \"self\" parameter  ---> This is called as Decorator.    \n",
    "    def welcomeToSchool(): # now we dont want this method to be attached to self as it has nothing to do with any student it \n",
    "                           # is for entire school.\n",
    "        print(\"Heyy!! Welcome to the School Buddy\")\n",
    "        \n",
    "    @staticmethod\n",
    "    def isTeen(age):\n",
    "        return age>16\n",
    "    \n",
    "    \"\"\"Instead of accepting a self parameter, class methods take a cls parameter that points to the \n",
    "       class—and not the object instance—when the method is called. \n",
    "       Because the class method only has access to this cls argument, it can’t modify object instance state. \n",
    "       That would require access to self. However, class methods can still modify class state that applies \n",
    "       across all instances of the class.\"\"\"\n",
    "    \n",
    "    @classmethod\n",
    "    def fromBirthYear(cls, name, year, percentage):\n",
    "        return cls(name, date.today().year - year, percentage)\n",
    "    \n",
    "        "
   ]
  },
  {
   "cell_type": "code",
   "execution_count": 12,
   "metadata": {},
   "outputs": [
    {
     "ename": "AttributeError",
     "evalue": "'Student' object has no attribute 'name'",
     "output_type": "error",
     "traceback": [
      "\u001b[1;31m---------------------------------------------------------------------------\u001b[0m",
      "\u001b[1;31mAttributeError\u001b[0m                            Traceback (most recent call last)",
      "\u001b[1;32m<ipython-input-12-d9bd92f3ed43>\u001b[0m in \u001b[0;36m<module>\u001b[1;34m\u001b[0m\n\u001b[0;32m      1\u001b[0m \u001b[0ms1\u001b[0m \u001b[1;33m=\u001b[0m \u001b[0mStudent\u001b[0m\u001b[1;33m(\u001b[0m\u001b[1;34m\"Rashu\"\u001b[0m\u001b[1;33m)\u001b[0m\u001b[1;33m\u001b[0m\u001b[1;33m\u001b[0m\u001b[0m\n\u001b[1;32m----> 2\u001b[1;33m \u001b[0mprint\u001b[0m\u001b[1;33m(\u001b[0m\u001b[0ms1\u001b[0m\u001b[1;33m.\u001b[0m\u001b[0mname\u001b[0m\u001b[1;33m)\u001b[0m \u001b[1;31m# we wont be able to access it\u001b[0m\u001b[1;33m\u001b[0m\u001b[1;33m\u001b[0m\u001b[0m\n\u001b[0m",
      "\u001b[1;31mAttributeError\u001b[0m: 'Student' object has no attribute 'name'"
     ]
    }
   ],
   "source": [
    "s1 = Student(\"Rashu\")\n",
    "print(s1.name) # we wont be able to access it"
   ]
  },
  {
   "cell_type": "code",
   "execution_count": 13,
   "metadata": {},
   "outputs": [
    {
     "ename": "AttributeError",
     "evalue": "'Student' object has no attribute '__name'",
     "output_type": "error",
     "traceback": [
      "\u001b[1;31m---------------------------------------------------------------------------\u001b[0m",
      "\u001b[1;31mAttributeError\u001b[0m                            Traceback (most recent call last)",
      "\u001b[1;32m<ipython-input-13-1d0006b21414>\u001b[0m in \u001b[0;36m<module>\u001b[1;34m\u001b[0m\n\u001b[0;32m      1\u001b[0m \u001b[0ms1\u001b[0m \u001b[1;33m=\u001b[0m \u001b[0mStudent\u001b[0m\u001b[1;33m(\u001b[0m\u001b[1;34m\"Rashu\"\u001b[0m\u001b[1;33m)\u001b[0m\u001b[1;33m\u001b[0m\u001b[1;33m\u001b[0m\u001b[0m\n\u001b[1;32m----> 2\u001b[1;33m \u001b[0mprint\u001b[0m\u001b[1;33m(\u001b[0m\u001b[0ms1\u001b[0m\u001b[1;33m.\u001b[0m\u001b[0m__name\u001b[0m\u001b[1;33m)\u001b[0m \u001b[1;31m# we wont be able to access it\u001b[0m\u001b[1;33m\u001b[0m\u001b[1;33m\u001b[0m\u001b[0m\n\u001b[0m",
      "\u001b[1;31mAttributeError\u001b[0m: 'Student' object has no attribute '__name'"
     ]
    }
   ],
   "source": [
    "s1 = Student(\"Rashu\")\n",
    "print(s1.__name) # we wont be able to access it"
   ]
  },
  {
   "cell_type": "markdown",
   "metadata": {},
   "source": [
    "#### __name is nothing outside the class but insdie the class it can be changed see the code below"
   ]
  },
  {
   "cell_type": "code",
   "execution_count": 14,
   "metadata": {},
   "outputs": [],
   "source": [
    "from datetime import date\n",
    "\n",
    "\n",
    "\n",
    "class Student():\n",
    "    passingPercentage = 40\n",
    "    \n",
    "    def __init__(self, name, age = 15, percentage = 80):\n",
    "        self.__name = name\n",
    "        self.age = age\n",
    "        self.percentage = percentage\n",
    "    \n",
    "    def studentDetails(self):\n",
    "        self.name = \"Rashu\" # object attribute or instance attribute. --> it is accessible till the life of this object in self\n",
    "        print(\"name = \", self.__name) # trying to access the private variable inside the class.\n",
    "        self.percentage = 90 # object attribute or instance attribute. --> it is accessible till the life of this object in self\n",
    "        print(\"percentage = \", self.percentage)\n",
    "        \n",
    "        \n",
    "    def isPassed(self):\n",
    "        if self.percentage > Student.passingPercentage:                                        \n",
    "            print(\"yes you passed\")\n",
    "        else:\n",
    "            print(\"Sorry you failed\")\n",
    "            \n",
    "            \n",
    "    \"\"\"This type of method takes neither a self nor a cls parameter (but of course it’s free to accept an arbitrary \n",
    "       number of other parameters).\n",
    "       Therefore a static method can neither modify object state nor class state.\n",
    "       Static methods are restricted in what data they can access - \n",
    "       and they’re primarily a way to namespace your methods.\"\"\"\n",
    "            \n",
    "    @staticmethod   # now this method will not demand for \"self\" parameter  ---> This is called as Decorator.    \n",
    "    def welcomeToSchool(): # now we dont want this method to be attached to self as it has nothing to do with any student it \n",
    "                           # is for entire school.\n",
    "        print(\"Heyy!! Welcome to the School Buddy\")\n",
    "        \n",
    "    @staticmethod\n",
    "    def isTeen(age):\n",
    "        return age>16\n",
    "    \n",
    "    \"\"\"Instead of accepting a self parameter, class methods take a cls parameter that points to the \n",
    "       class—and not the object instance—when the method is called. \n",
    "       Because the class method only has access to this cls argument, it can’t modify object instance state. \n",
    "       That would require access to self. However, class methods can still modify class state that applies \n",
    "       across all instances of the class.\"\"\"\n",
    "    \n",
    "    @classmethod\n",
    "    def fromBirthYear(cls, name, year, percentage):\n",
    "        return cls(name, date.today().year - year, percentage)\n",
    "    \n",
    "        "
   ]
  },
  {
   "cell_type": "code",
   "execution_count": 16,
   "metadata": {},
   "outputs": [
    {
     "name": "stdout",
     "output_type": "stream",
     "text": [
      "name =  Rashu\n",
      "percentage =  90\n"
     ]
    }
   ],
   "source": [
    "s1 = Student(\"Rashu\")\n",
    "#print(s1.name) # we wont be able to access it\n",
    "s1.studentDetails()  # here we are still able to access the __name as it was inside the class"
   ]
  },
  {
   "cell_type": "markdown",
   "metadata": {},
   "source": [
    "### Python uses the concept of name mangling."
   ]
  },
  {
   "cell_type": "markdown",
   "metadata": {},
   "source": [
    "object.__variable --> object._Classname__variablename"
   ]
  },
  {
   "cell_type": "code",
   "execution_count": 19,
   "metadata": {},
   "outputs": [],
   "source": [
    "from datetime import date\n",
    "\n",
    "\n",
    "\n",
    "class Student():\n",
    "    passingPercentage = 40\n",
    "    \n",
    "    def __init__(self, name, age = 15, percentage = 80):\n",
    "        self.__name = name\n",
    "        self.age = age\n",
    "        self.percentage = percentage\n",
    "    \n",
    "    def studentDetails(self):\n",
    "        self.name = \"Rashu\" # object attribute or instance attribute. --> it is accessible till the life of this object in self\n",
    "        print(\"name = \", self.__name) # trying to access the private variable inside the class.\n",
    "        self.percentage = 90 # object attribute or instance attribute. --> it is accessible till the life of this object in self\n",
    "        print(\"percentage = \", self.percentage)\n",
    "        \n",
    "        \n",
    "    def isPassed(self):\n",
    "        if self.percentage > Student.passingPercentage:                                        \n",
    "            print(\"yes you passed\")\n",
    "        else:\n",
    "            print(\"Sorry you failed\")\n",
    "            \n",
    "            \n",
    "    \"\"\"This type of method takes neither a self nor a cls parameter (but of course it’s free to accept an arbitrary \n",
    "       number of other parameters).\n",
    "       Therefore a static method can neither modify object state nor class state.\n",
    "       Static methods are restricted in what data they can access - \n",
    "       and they’re primarily a way to namespace your methods.\"\"\"\n",
    "            \n",
    "    @staticmethod   # now this method will not demand for \"self\" parameter  ---> This is called as Decorator.    \n",
    "    def welcomeToSchool(): # now we dont want this method to be attached to self as it has nothing to do with any student it \n",
    "                           # is for entire school.\n",
    "        print(\"Heyy!! Welcome to the School Buddy\")\n",
    "        \n",
    "    @staticmethod\n",
    "    def isTeen(age):\n",
    "        return age>16\n",
    "    \n",
    "    \"\"\"Instead of accepting a self parameter, class methods take a cls parameter that points to the \n",
    "       class—and not the object instance—when the method is called. \n",
    "       Because the class method only has access to this cls argument, it can’t modify object instance state. \n",
    "       That would require access to self. However, class methods can still modify class state that applies \n",
    "       across all instances of the class.\"\"\"\n",
    "    \n",
    "    @classmethod\n",
    "    def fromBirthYear(cls, name, year, percentage):\n",
    "        return cls(name, date.today().year - year, percentage)\n",
    "    \n",
    "        "
   ]
  },
  {
   "cell_type": "code",
   "execution_count": 20,
   "metadata": {},
   "outputs": [
    {
     "name": "stdout",
     "output_type": "stream",
     "text": [
      "Rashu\n"
     ]
    }
   ],
   "source": [
    "s1 = Student(\"Rashu\")\n",
    "print(s1._Student__name) # using this we can access the private members also but it is not our responsibility to not do this."
   ]
  },
  {
   "cell_type": "markdown",
   "metadata": {},
   "source": [
    "### So actually Python has no concept of Private they can still be accessed but we shoould not do that as developers."
   ]
  },
  {
   "cell_type": "markdown",
   "metadata": {},
   "source": [
    "## Class variable can also be made private variable"
   ]
  },
  {
   "cell_type": "code",
   "execution_count": 22,
   "metadata": {},
   "outputs": [],
   "source": [
    "from datetime import date\n",
    "\n",
    "\n",
    "\n",
    "class Student():\n",
    "    __passingPercentage = 40\n",
    "    \n",
    "    def __init__(self, name, age = 15, percentage = 80):\n",
    "        self.__name = name\n",
    "        self.age = age\n",
    "        self.percentage = percentage\n",
    "    \n",
    "    def studentDetails(self):\n",
    "        self.name = \"Rashu\" # object attribute or instance attribute. --> it is accessible till the life of this object in self\n",
    "        print(\"name = \", self.__name) # trying to access the private variable inside the class.\n",
    "        self.percentage = 90 # object attribute or instance attribute. --> it is accessible till the life of this object in self\n",
    "        print(\"percentage = \", self.percentage)\n",
    "        \n",
    "        \n",
    "    def isPassed(self):\n",
    "        if self.percentage > Student.passingPercentage:                                        \n",
    "            print(\"yes you passed\")\n",
    "        else:\n",
    "            print(\"Sorry you failed\")\n",
    "            \n",
    "            \n",
    "    \"\"\"This type of method takes neither a self nor a cls parameter (but of course it’s free to accept an arbitrary \n",
    "       number of other parameters).\n",
    "       Therefore a static method can neither modify object state nor class state.\n",
    "       Static methods are restricted in what data they can access - \n",
    "       and they’re primarily a way to namespace your methods.\"\"\"\n",
    "            \n",
    "    @staticmethod   # now this method will not demand for \"self\" parameter  ---> This is called as Decorator.    \n",
    "    def welcomeToSchool(): # now we dont want this method to be attached to self as it has nothing to do with any student it \n",
    "                           # is for entire school.\n",
    "        print(\"Heyy!! Welcome to the School Buddy\")\n",
    "        \n",
    "    @staticmethod\n",
    "    def isTeen(age):\n",
    "        return age>16\n",
    "    \n",
    "    \"\"\"Instead of accepting a self parameter, class methods take a cls parameter that points to the \n",
    "       class—and not the object instance—when the method is called. \n",
    "       Because the class method only has access to this cls argument, it can’t modify object instance state. \n",
    "       That would require access to self. However, class methods can still modify class state that applies \n",
    "       across all instances of the class.\"\"\"\n",
    "    \n",
    "    @classmethod\n",
    "    def fromBirthYear(cls, name, year, percentage):\n",
    "        return cls(name, date.today().year - year, percentage)\n",
    "    \n",
    "        "
   ]
  },
  {
   "cell_type": "code",
   "execution_count": 23,
   "metadata": {},
   "outputs": [
    {
     "ename": "AttributeError",
     "evalue": "'Student' object has no attribute 'passingPercentage'",
     "output_type": "error",
     "traceback": [
      "\u001b[1;31m---------------------------------------------------------------------------\u001b[0m",
      "\u001b[1;31mAttributeError\u001b[0m                            Traceback (most recent call last)",
      "\u001b[1;32m<ipython-input-23-27de8407f8fa>\u001b[0m in \u001b[0;36m<module>\u001b[1;34m\u001b[0m\n\u001b[0;32m      1\u001b[0m \u001b[0ms1\u001b[0m \u001b[1;33m=\u001b[0m \u001b[0mStudent\u001b[0m\u001b[1;33m(\u001b[0m\u001b[1;34m\"Rashu\"\u001b[0m\u001b[1;33m)\u001b[0m\u001b[1;33m\u001b[0m\u001b[1;33m\u001b[0m\u001b[0m\n\u001b[1;32m----> 2\u001b[1;33m \u001b[0mprint\u001b[0m\u001b[1;33m(\u001b[0m\u001b[0ms1\u001b[0m\u001b[1;33m.\u001b[0m\u001b[0mpassingPercentage\u001b[0m\u001b[1;33m)\u001b[0m\u001b[1;33m\u001b[0m\u001b[1;33m\u001b[0m\u001b[0m\n\u001b[0m",
      "\u001b[1;31mAttributeError\u001b[0m: 'Student' object has no attribute 'passingPercentage'"
     ]
    }
   ],
   "source": [
    "s1 = Student(\"Rashu\")\n",
    "print(s1.passingPercentage) # see we can not access a private class variable also."
   ]
  },
  {
   "cell_type": "code",
   "execution_count": 24,
   "metadata": {},
   "outputs": [
    {
     "ename": "AttributeError",
     "evalue": "'Student' object has no attribute '__passingPercentage'",
     "output_type": "error",
     "traceback": [
      "\u001b[1;31m---------------------------------------------------------------------------\u001b[0m",
      "\u001b[1;31mAttributeError\u001b[0m                            Traceback (most recent call last)",
      "\u001b[1;32m<ipython-input-24-89f9c5e0f5dc>\u001b[0m in \u001b[0;36m<module>\u001b[1;34m\u001b[0m\n\u001b[0;32m      1\u001b[0m \u001b[0ms1\u001b[0m \u001b[1;33m=\u001b[0m \u001b[0mStudent\u001b[0m\u001b[1;33m(\u001b[0m\u001b[1;34m\"Rashu\"\u001b[0m\u001b[1;33m)\u001b[0m\u001b[1;33m\u001b[0m\u001b[1;33m\u001b[0m\u001b[0m\n\u001b[1;32m----> 2\u001b[1;33m \u001b[0mprint\u001b[0m\u001b[1;33m(\u001b[0m\u001b[0ms1\u001b[0m\u001b[1;33m.\u001b[0m\u001b[0m__passingPercentage\u001b[0m\u001b[1;33m)\u001b[0m\u001b[1;33m\u001b[0m\u001b[1;33m\u001b[0m\u001b[0m\n\u001b[0m",
      "\u001b[1;31mAttributeError\u001b[0m: 'Student' object has no attribute '__passingPercentage'"
     ]
    }
   ],
   "source": [
    "s1 = Student(\"Rashu\")\n",
    "print(s1.__passingPercentage)"
   ]
  },
  {
   "cell_type": "code",
   "execution_count": 26,
   "metadata": {},
   "outputs": [
    {
     "name": "stdout",
     "output_type": "stream",
     "text": [
      "40\n"
     ]
    }
   ],
   "source": [
    "s1 = Student(\"Rashu\")\n",
    "print(s1._Student__passingPercentage) # this way you can access the private variables but you should not."
   ]
  },
  {
   "cell_type": "code",
   "execution_count": null,
   "metadata": {},
   "outputs": [],
   "source": []
  }
 ],
 "metadata": {
  "kernelspec": {
   "display_name": "Python 3",
   "language": "python",
   "name": "python3"
  },
  "language_info": {
   "codemirror_mode": {
    "name": "ipython",
    "version": 3
   },
   "file_extension": ".py",
   "mimetype": "text/x-python",
   "name": "python",
   "nbconvert_exporter": "python",
   "pygments_lexer": "ipython3",
   "version": "3.7.3"
  }
 },
 "nbformat": 4,
 "nbformat_minor": 2
}
